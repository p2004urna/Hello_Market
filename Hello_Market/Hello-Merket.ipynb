{
 "cells": [
  {
   "cell_type": "code",
   "execution_count": 1,
   "id": "f902084c-874e-4a6e-86d6-efdbd27a0b49",
   "metadata": {},
   "outputs": [],
   "source": [
    "import yfinance as yf"
   ]
  },
  {
   "cell_type": "code",
   "execution_count": 2,
   "id": "c047a9fd-5dbf-4054-b79a-2c361edad1b1",
   "metadata": {},
   "outputs": [
    {
     "name": "stdout",
     "output_type": "stream",
     "text": [
      "<module 'yfinance' from '/Users/purnapriyamandal/Desktop/AnacondaTools/anaconda3/lib/python3.12/site-packages/yfinance/__init__.py'>\n"
     ]
    }
   ],
   "source": [
    "print(yf)"
   ]
  },
  {
   "cell_type": "code",
   "execution_count": 3,
   "id": "7f085251-14bb-4814-92bd-cc05d2a99f04",
   "metadata": {},
   "outputs": [],
   "source": [
    "tickers = [\"RELIANCE.NS\", \"TCS.NS\", \"INFY.NS\"]"
   ]
  },
  {
   "cell_type": "code",
   "execution_count": 5,
   "id": "321e16fa-881c-4afe-9e02-8f377c8a79e1",
   "metadata": {},
   "outputs": [],
   "source": [
    "ticker = yf.Ticker(\"RELIANCE.NS\")"
   ]
  },
  {
   "cell_type": "code",
   "execution_count": 18,
   "id": "e94cb938-c8f4-407d-bc7b-313a0695c0d0",
   "metadata": {},
   "outputs": [],
   "source": [
    "historical_data = ticker.history(period=\"10y\")"
   ]
  },
  {
   "cell_type": "code",
   "execution_count": 19,
   "id": "fc1c024c-7dca-47c7-a31b-cca8e51983e5",
   "metadata": {},
   "outputs": [
    {
     "name": "stdout",
     "output_type": "stream",
     "text": [
      "                                 Open        High         Low       Close  \\\n",
      "Date                                                                        \n",
      "2015-06-23 00:00:00+05:30  224.426319  226.698500  224.053270  224.957626   \n",
      "2015-06-24 00:00:00+05:30  224.957620  227.546330  223.069778  224.030655   \n",
      "2015-06-25 00:00:00+05:30  223.148922  228.122854  222.696744  227.116760   \n",
      "2015-06-26 00:00:00+05:30  226.065442  229.275892  225.048045  226.246323   \n",
      "2015-06-29 00:00:00+05:30  223.352392  224.697623  219.757589  224.019348   \n",
      "\n",
      "                             Volume  Dividends  Stock Splits  \n",
      "Date                                                          \n",
      "2015-06-23 00:00:00+05:30  16007498        0.0           0.0  \n",
      "2015-06-24 00:00:00+05:30  18603004        0.0           0.0  \n",
      "2015-06-25 00:00:00+05:30  27175118        0.0           0.0  \n",
      "2015-06-26 00:00:00+05:30  20966796        0.0           0.0  \n",
      "2015-06-29 00:00:00+05:30  20168946        0.0           0.0  \n"
     ]
    }
   ],
   "source": [
    "print(historical_data.head())"
   ]
  },
  {
   "cell_type": "code",
   "execution_count": 20,
   "id": "67b9d9df-e296-48ad-a6eb-0b8085978a8d",
   "metadata": {},
   "outputs": [
    {
     "name": "stdout",
     "output_type": "stream",
     "text": [
      "Closing prices:\n",
      "Date\n",
      "2025-06-17 00:00:00+05:30    1431.199951\n",
      "2025-06-18 00:00:00+05:30    1430.099976\n",
      "2025-06-19 00:00:00+05:30    1433.300049\n",
      "2025-06-20 00:00:00+05:30    1466.199951\n",
      "2025-06-23 00:00:00+05:30    1456.800049\n",
      "Name: Close, dtype: float64\n"
     ]
    }
   ],
   "source": [
    "closing_prices = historical_data[\"Close\"]\n",
    "print(\"Closing prices:\")\n",
    "print(closing_prices.tail())"
   ]
  },
  {
   "cell_type": "code",
   "execution_count": 22,
   "id": "49ef4ff4-96f3-4c8e-a76b-0fc7cfabdf5e",
   "metadata": {},
   "outputs": [
    {
     "name": "stdout",
     "output_type": "stream",
     "text": [
      "Date\n",
      "2015-06-23 00:00:00+05:30    224.957626\n",
      "2015-06-24 00:00:00+05:30    224.030655\n",
      "2015-06-25 00:00:00+05:30    227.116760\n",
      "2015-06-26 00:00:00+05:30    226.246323\n",
      "2015-06-29 00:00:00+05:30    224.019348\n",
      "Name: Close, dtype: float64\n"
     ]
    }
   ],
   "source": [
    "print(closing_prices.head())"
   ]
  },
  {
   "cell_type": "code",
   "execution_count": 23,
   "id": "554b48a3-1b5c-4f5a-9b8c-8a35661cb04a",
   "metadata": {},
   "outputs": [
    {
     "name": "stdout",
     "output_type": "stream",
     "text": [
      "Latest data(today's trading):\n",
      "                             Open         High     Low        Close   Volume  \\\n",
      "Date                                                                           \n",
      "2025-06-23 00:00:00+05:30  1453.0  1463.800049  1442.0  1456.800049  5988605   \n",
      "\n",
      "                           Dividends  Stock Splits  \n",
      "Date                                                \n",
      "2025-06-23 00:00:00+05:30        0.0           0.0  \n"
     ]
    }
   ],
   "source": [
    "today_data = ticker.history(period=\"1d\")\n",
    "print(\"Latest data(today's trading):\")\n",
    "print(today_data)"
   ]
  },
  {
   "cell_type": "code",
   "execution_count": 24,
   "id": "18293e41-9e5d-4093-8a2c-8f6280598cd9",
   "metadata": {},
   "outputs": [
    {
     "name": "stdout",
     "output_type": "stream",
     "text": [
      "Latest closing price of Reliance:  1456.800048828125\n"
     ]
    },
    {
     "name": "stderr",
     "output_type": "stream",
     "text": [
      "/var/folders/c6/_98txv4s4756n3j7mtkt4xyr0000gn/T/ipykernel_2694/4069614750.py:1: FutureWarning: Series.__getitem__ treating keys as positions is deprecated. In a future version, integer keys will always be treated as labels (consistent with DataFrame behavior). To access a value by position, use `ser.iloc[pos]`\n",
      "  latest_close = today_data[\"Close\"][0]\n"
     ]
    }
   ],
   "source": [
    "latest_close = today_data[\"Close\"][0]\n",
    "print(\"Latest closing price of Reliance: \", latest_close )"
   ]
  },
  {
   "cell_type": "code",
   "execution_count": 28,
   "id": "7ca535e7-7858-4ecc-99de-02c4548b18c1",
   "metadata": {},
   "outputs": [
    {
     "name": "stdout",
     "output_type": "stream",
     "text": [
      "Highest price of all time:  1603.3582879590508\n",
      "Lowest price of all time:  1580.1370716514475\n"
     ]
    }
   ],
   "source": [
    "all_high = list(historical_data[\"High\"])\n",
    "all_low = list(historical_data[\"Low\"])\n",
    "print(\"Highest price of all time: \", max(all_high))\n",
    "print(\"Lowest price of all time: \", max(all_low))"
   ]
  },
  {
   "cell_type": "code",
   "execution_count": 30,
   "id": "9d982897-46e0-4fd9-84b2-40eb85abf37d",
   "metadata": {},
   "outputs": [],
   "source": [
    "import csv\n",
    "\n",
    "with open(\"reliance_history.csv\", \"w\", newline=\"\") as csvfile:\n",
    "    writer = csv.writer(csvfile)\n",
    "    # Write the header row\n",
    "    writer.writerow([\"Date\", \"Open\", \"High\", \"Low\", \"Close\", \"Volume\"])\n",
    "    # Write data rows\n",
    "    for date, open_, high, low, close, vol in zip(\n",
    "            historical_data.index.strftime(\"%Y-%m-%d\"),\n",
    "            historical_data[\"Open\"],\n",
    "            historical_data[\"High\"],\n",
    "            historical_data[\"Low\"],\n",
    "            historical_data[\"Close\"],\n",
    "            historical_data[\"Volume\"]):\n",
    "        writer.writerow([date, open_, high, low, close, vol])\n"
   ]
  },
  {
   "cell_type": "code",
   "execution_count": null,
   "id": "bf52ba61-bd8d-4bf3-bddd-7034597cd11d",
   "metadata": {},
   "outputs": [],
   "source": []
  }
 ],
 "metadata": {
  "kernelspec": {
   "display_name": "Python [conda env:base] *",
   "language": "python",
   "name": "conda-base-py"
  },
  "language_info": {
   "codemirror_mode": {
    "name": "ipython",
    "version": 3
   },
   "file_extension": ".py",
   "mimetype": "text/x-python",
   "name": "python",
   "nbconvert_exporter": "python",
   "pygments_lexer": "ipython3",
   "version": "3.12.7"
  }
 },
 "nbformat": 4,
 "nbformat_minor": 5
}
